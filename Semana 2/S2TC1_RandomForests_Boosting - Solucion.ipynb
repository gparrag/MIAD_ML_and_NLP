{
  "cells": [
    {
      "cell_type": "markdown",
      "metadata": {
        "id": "view-in-github",
        "colab_type": "text"
      },
      "source": [
        "<a href=\"https://colab.research.google.com/github/gparrag/MIAD_ML_and_NLP/blob/main/Semana%202/S2TC1_RandomForests_Boosting%20-%20Solucion.ipynb\" target=\"_parent\"><img src=\"https://colab.research.google.com/assets/colab-badge.svg\" alt=\"Open In Colab\"/></a>"
      ]
    },
    {
      "cell_type": "markdown",
      "metadata": {
        "id": "2XJOOL5c-N1V"
      },
      "source": [
        "![image info](https://raw.githubusercontent.com/albahnsen/MIAD_ML_and_NLP/main/images/banner_1.png)"
      ]
    },
    {
      "cell_type": "markdown",
      "metadata": {
        "id": "Ah-9psDU-N1Y"
      },
      "source": [
        "# Taller: Construcción e implementación de modelos Bagging, Random Forest y XGBoost\n",
        "\n",
        "En este taller podrán poner en práctica sus conocimientos sobre la construcción e implementación de modelos de Bagging, Random Forest y XGBoost. El taller está constituido por 8 puntos, en los cuales deberan seguir las intrucciones de cada numeral para su desarrollo."
      ]
    },
    {
      "cell_type": "markdown",
      "metadata": {
        "id": "Ss1lQRFG-N1Z"
      },
      "source": [
        "## Datos predicción precio de automóviles\n",
        "\n",
        "En este taller se usará el conjunto de datos de Car Listings de Kaggle donde cada observación representa el precio de un automóvil teniendo en cuenta distintas variables como año, marca, modelo, entre otras. El objetivo es predecir si el precio del automóvil es alto o no. Para más detalles puede visitar el siguiente enlace: [datos](https://www.kaggle.com/jpayne/852k-used-car-listings)."
      ]
    },
    {
      "cell_type": "code",
      "execution_count": 1,
      "metadata": {
        "id": "YxNaVnfp-N1Z"
      },
      "outputs": [],
      "source": [
        "import warnings\n",
        "warnings.filterwarnings('ignore')"
      ]
    },
    {
      "cell_type": "code",
      "execution_count": 2,
      "metadata": {
        "colab": {
          "base_uri": "https://localhost:8080/",
          "height": 206
        },
        "id": "yb24EanL-N1a",
        "outputId": "7f13dc2d-3952-4d67-eb4a-8f5064ed793f"
      },
      "outputs": [
        {
          "output_type": "execute_result",
          "data": {
            "text/plain": [
              "     Year  Mileage  M_Camry  M_Camry4dr  M_CamryBase  M_CamryL  M_CamryLE  \\\n",
              "7    2014     6480        0           0            0         1          0   \n",
              "11   2014    39972        0           0            0         0          1   \n",
              "167  2016    18989        0           0            0         0          0   \n",
              "225  2014    51330        0           0            0         1          0   \n",
              "270  2007   116065        0           1            0         0          0   \n",
              "\n",
              "     M_CamrySE  M_CamryXLE  HighPrice  \n",
              "7            0           0          1  \n",
              "11           0           0          0  \n",
              "167          1           0          1  \n",
              "225          0           0          0  \n",
              "270          0           0          0  "
            ],
            "text/html": [
              "<div>\n",
              "<style scoped>\n",
              "    .dataframe tbody tr th:only-of-type {\n",
              "        vertical-align: middle;\n",
              "    }\n",
              "\n",
              "    .dataframe tbody tr th {\n",
              "        vertical-align: top;\n",
              "    }\n",
              "\n",
              "    .dataframe thead th {\n",
              "        text-align: right;\n",
              "    }\n",
              "</style>\n",
              "<table border=\"1\" class=\"dataframe\">\n",
              "  <thead>\n",
              "    <tr style=\"text-align: right;\">\n",
              "      <th></th>\n",
              "      <th>Year</th>\n",
              "      <th>Mileage</th>\n",
              "      <th>M_Camry</th>\n",
              "      <th>M_Camry4dr</th>\n",
              "      <th>M_CamryBase</th>\n",
              "      <th>M_CamryL</th>\n",
              "      <th>M_CamryLE</th>\n",
              "      <th>M_CamrySE</th>\n",
              "      <th>M_CamryXLE</th>\n",
              "      <th>HighPrice</th>\n",
              "    </tr>\n",
              "  </thead>\n",
              "  <tbody>\n",
              "    <tr>\n",
              "      <th>7</th>\n",
              "      <td>2014</td>\n",
              "      <td>6480</td>\n",
              "      <td>0</td>\n",
              "      <td>0</td>\n",
              "      <td>0</td>\n",
              "      <td>1</td>\n",
              "      <td>0</td>\n",
              "      <td>0</td>\n",
              "      <td>0</td>\n",
              "      <td>1</td>\n",
              "    </tr>\n",
              "    <tr>\n",
              "      <th>11</th>\n",
              "      <td>2014</td>\n",
              "      <td>39972</td>\n",
              "      <td>0</td>\n",
              "      <td>0</td>\n",
              "      <td>0</td>\n",
              "      <td>0</td>\n",
              "      <td>1</td>\n",
              "      <td>0</td>\n",
              "      <td>0</td>\n",
              "      <td>0</td>\n",
              "    </tr>\n",
              "    <tr>\n",
              "      <th>167</th>\n",
              "      <td>2016</td>\n",
              "      <td>18989</td>\n",
              "      <td>0</td>\n",
              "      <td>0</td>\n",
              "      <td>0</td>\n",
              "      <td>0</td>\n",
              "      <td>0</td>\n",
              "      <td>1</td>\n",
              "      <td>0</td>\n",
              "      <td>1</td>\n",
              "    </tr>\n",
              "    <tr>\n",
              "      <th>225</th>\n",
              "      <td>2014</td>\n",
              "      <td>51330</td>\n",
              "      <td>0</td>\n",
              "      <td>0</td>\n",
              "      <td>0</td>\n",
              "      <td>1</td>\n",
              "      <td>0</td>\n",
              "      <td>0</td>\n",
              "      <td>0</td>\n",
              "      <td>0</td>\n",
              "    </tr>\n",
              "    <tr>\n",
              "      <th>270</th>\n",
              "      <td>2007</td>\n",
              "      <td>116065</td>\n",
              "      <td>0</td>\n",
              "      <td>1</td>\n",
              "      <td>0</td>\n",
              "      <td>0</td>\n",
              "      <td>0</td>\n",
              "      <td>0</td>\n",
              "      <td>0</td>\n",
              "      <td>0</td>\n",
              "    </tr>\n",
              "  </tbody>\n",
              "</table>\n",
              "</div>"
            ]
          },
          "metadata": {},
          "execution_count": 2
        }
      ],
      "source": [
        "# Importación de librerías\n",
        "%matplotlib inline\n",
        "import pandas as pd\n",
        "import numpy as np\n",
        "# Lectura de la información de archivo .csv\n",
        "data = pd.read_csv('https://raw.githubusercontent.com/albahnsen/MIAD_ML_and_NLP/main/datasets/dataTrain_carListings.zip')\n",
        "\n",
        "# Preprocesamiento de datos para el taller\n",
        "data = data.loc[data['Model'].str.contains('Camry')].drop(['Make', 'State'], axis=1)\n",
        "data = data.join(pd.get_dummies(data['Model'], prefix='M'))\n",
        "data['HighPrice'] = (data['Price'] > data['Price'].mean()).astype(int)\n",
        "data = data.drop(['Model', 'Price'], axis=1)\n",
        "\n",
        "# Visualización dataset\n",
        "data.head()"
      ]
    },
    {
      "cell_type": "code",
      "execution_count": 3,
      "metadata": {
        "id": "rjng-_SR-N1b"
      },
      "outputs": [],
      "source": [
        "# Separación de variables predictoras (X) y variable de interés (y)\n",
        "y = data['HighPrice']\n",
        "X = data.drop(['HighPrice'], axis=1)"
      ]
    },
    {
      "cell_type": "code",
      "execution_count": 4,
      "metadata": {
        "id": "Bhi52QTS-N1b"
      },
      "outputs": [],
      "source": [
        "# Separación de datos en set de entrenamiento y test\n",
        "from sklearn.model_selection import train_test_split\n",
        "X_train, X_test, y_train, y_test = train_test_split(X, y, test_size=0.33, random_state=42)\n"
      ]
    },
    {
      "cell_type": "markdown",
      "metadata": {
        "id": "8vVsWE8Y-N1c"
      },
      "source": [
        "### Punto 1 - Árbol de decisión manual\n",
        "\n",
        "En la celda 1 creen un árbol de decisión **manualmente**  que considere los set de entrenamiento y test definidos anteriormente y presenten el acurracy del modelo en el set de test."
      ]
    },
    {
      "cell_type": "code",
      "execution_count": 21,
      "metadata": {
        "id": "NcRgXXHB-N1d",
        "outputId": "82c27198-f335-450d-cf98-4796ff5d6b94",
        "colab": {
          "base_uri": "https://localhost:8080/"
        }
      },
      "outputs": [
        {
          "output_type": "execute_result",
          "data": {
            "text/plain": [
              "0.8879907621247113"
            ]
          },
          "metadata": {},
          "execution_count": 21
        }
      ],
      "source": [
        "# Celda 1\n",
        "from sklearn.metrics import accuracy_score\n",
        "def gini(y):\n",
        "    if y.shape[0] == 0:\n",
        "        return 0\n",
        "    else:\n",
        "        return 1 - (y.mean()**2 + (1 - y.mean())**2)\n",
        "\n",
        "def gini_impurity(X_col, y, split):\n",
        "    \n",
        "    filter_l = X_col < split\n",
        "    y_l = y.loc[filter_l]\n",
        "    y_r = y.loc[~filter_l]\n",
        "    \n",
        "    n_l = y_l.shape[0]\n",
        "    n_r = y_r.shape[0]\n",
        "    \n",
        "    gini_y = gini(y)\n",
        "    gini_l = gini(y_l)\n",
        "    gini_r = gini(y_r)\n",
        "    \n",
        "    gini_impurity_ = gini_y - (n_l / (n_l + n_r) * gini_l + n_r / (n_l + n_r) * gini_r)\n",
        "    \n",
        "    return gini_impurity_\n",
        "\n",
        "def best_split(X, y, num_pct=10):\n",
        "    \n",
        "    features = range(X.shape[1])\n",
        "    \n",
        "    best_split = [0, 0, 0]  \n",
        "    \n",
        "    for j in features:\n",
        "        \n",
        "        splits = np.percentile(X.iloc[:, j], np.arange(0, 100, 100.0 / (num_pct+1)).tolist())\n",
        "        splits = np.unique(splits)[1:]\n",
        "        \n",
        "        for split in splits:\n",
        "            gain = gini_impurity(X.iloc[:, j], y, split)\n",
        "                        \n",
        "            if gain > best_split[2]:\n",
        "                best_split = [j, split, gain]\n",
        "    \n",
        "    return best_split\n",
        "\n",
        "def tree_grow(X, y, level=0, min_gain=0.001, max_depth=None, num_pct=10):\n",
        "    \n",
        "    if X.shape[0] == 1:\n",
        "        tree = dict(y_pred=y.iloc[:1].values[0], y_prob=0.5, level=level, split=-1, n_samples=1, gain=0)\n",
        "        return tree\n",
        "    \n",
        "    j, split, gain = best_split(X, y, num_pct)\n",
        "    \n",
        "    y_pred = int(y.mean() >= 0.5) \n",
        "    y_prob = (y.sum() + 1.0) / (y.shape[0] + 2.0) \n",
        "    \n",
        "    tree = dict(y_pred=y_pred, y_prob=y_prob, level=level, split=-1, n_samples=X.shape[0], gain=gain)\n",
        "    if gain < min_gain:\n",
        "        return tree\n",
        "    if max_depth is not None:\n",
        "        if level >= max_depth:\n",
        "            return tree   \n",
        "    \n",
        "    filter_l = X.iloc[:, j] < split\n",
        "    X_l, y_l = X.loc[filter_l], y.loc[filter_l]\n",
        "    X_r, y_r = X.loc[~filter_l], y.loc[~filter_l]\n",
        "    tree['split'] = [j, split]\n",
        "\n",
        "    \n",
        "    tree['sl'] = tree_grow(X_l, y_l, level + 1, min_gain=min_gain, max_depth=max_depth, num_pct=num_pct)\n",
        "    tree['sr'] = tree_grow(X_r, y_r, level + 1, min_gain=min_gain, max_depth=max_depth, num_pct=num_pct)\n",
        "    \n",
        "    return tree\n",
        "\n",
        "tree = tree_grow(X, y, level=0, min_gain=0.001, max_depth=3, num_pct=10)\n",
        "\n",
        "def tree_predict(X, tree, proba=False):\n",
        "    \n",
        "    predicted = np.ones(X.shape[0])\n",
        "\n",
        "    # Revisar si es el nodo final\n",
        "    if tree['split'] == -1:\n",
        "        if not proba:\n",
        "            predicted = predicted * tree['y_pred']\n",
        "        else:\n",
        "            predicted = predicted * tree['y_prob']\n",
        "            \n",
        "    else:\n",
        "        \n",
        "        j, split = tree['split']\n",
        "        filter_l = (X.iloc[:, j] < split)\n",
        "        X_l = X.loc[filter_l]\n",
        "        X_r = X.loc[~filter_l]\n",
        "\n",
        "        if X_l.shape[0] == 0:  \n",
        "            predicted[~filter_l] = tree_predict(X_r, tree['sr'], proba)\n",
        "        elif X_r.shape[0] == 0:  \n",
        "            predicted[filter_l] = tree_predict(X_l, tree['sl'], proba)\n",
        "        else:\n",
        "            predicted[filter_l] = tree_predict(X_l, tree['sl'], proba)\n",
        "            predicted[~filter_l] = tree_predict(X_r, tree['sr'], proba)\n",
        "\n",
        "    return predicted\n",
        "\n",
        "tree = tree_grow(X_train, y_train, level=0, min_gain=0.001, max_depth=5, num_pct=10)\n",
        "\n",
        "y_pred_mantree=tree_predict(X_test, tree)\n",
        "accuracy=accuracy_score(y_test,y_pred_mantree)\n",
        "accuracy"
      ]
    },
    {
      "cell_type": "markdown",
      "metadata": {
        "id": "k5eMJYQp-N1d"
      },
      "source": [
        "### Punto 2 - Bagging manual\n",
        "\n",
        "En la celda 2 creen un modelo bagging **manualmente** con 10 árboles de clasificación y comenten sobre el desempeño del modelo."
      ]
    },
    {
      "cell_type": "code",
      "execution_count": null,
      "metadata": {
        "id": "PTUtc2Ha-N1e"
      },
      "outputs": [],
      "source": [
        "# Celda 2\n"
      ]
    },
    {
      "cell_type": "markdown",
      "metadata": {
        "id": "GK_Y1yUD-N1e"
      },
      "source": [
        "### Punto 3 - Bagging con librería\n",
        "\n",
        "En la celda 3, con la librería sklearn, entrenen un modelo bagging con 10 árboles de clasificación y el parámetro `max_features` igual a `log(n_features)`. Presenten el acurracy del modelo en el set de test y comenten sus resultados."
      ]
    },
    {
      "cell_type": "code",
      "execution_count": 31,
      "metadata": {
        "id": "L3F17rVm-N1e",
        "outputId": "f7e9ac53-a762-4bec-e6e5-ff55d6998bff",
        "colab": {
          "base_uri": "https://localhost:8080/"
        }
      },
      "outputs": [
        {
          "output_type": "execute_result",
          "data": {
            "text/plain": [
              "0.8493071593533488"
            ]
          },
          "metadata": {},
          "execution_count": 31
        }
      ],
      "source": [
        "# Celda 3\n",
        "from sklearn.ensemble import BaggingClassifier\n",
        "import numpy as np\n",
        "feature_cols=X_train.columns\n",
        "max_features=int(np.log(len(feature_cols)))\n",
        "clf_Bagg = BaggingClassifier(n_estimators=10, random_state=0,max_features=max_features)\n",
        "clf_Bagg.fit(X_train, y_train)\n",
        "\n",
        "y_pred_bagg=clf_Bagg.predict(X_test)\n",
        "accuracy=accuracy_score(y_test,y_pred_bagg)\n",
        "accuracy"
      ]
    },
    {
      "cell_type": "markdown",
      "metadata": {
        "id": "j6ixtj32-N1f"
      },
      "source": [
        "### Punto 4 - Random forest con librería\n",
        "\n",
        "En la celda 4, usando la librería sklearn entrenen un modelo de Randon Forest para clasificación y presenten el acurracy del modelo en el set de test y comenten sus resultados."
      ]
    },
    {
      "cell_type": "code",
      "execution_count": null,
      "metadata": {
        "colab": {
          "base_uri": "https://localhost:8080/"
        },
        "id": "JSKyUSVl-N1f",
        "outputId": "21bd58ce-718a-4573-d8f8-051541264509"
      },
      "outputs": [
        {
          "data": {
            "text/plain": [
              "0.8432448036951501"
            ]
          },
          "execution_count": 8,
          "metadata": {},
          "output_type": "execute_result"
        }
      ],
      "source": [
        "# Celda 4\n",
        "from sklearn.ensemble import RandomForestClassifier\n",
        "from sklearn.metrics import accuracy_score\n",
        "clf = RandomForestClassifier()\n",
        "clf.fit(X_train, y_train)\n",
        "\n",
        "y_pred=clf.predict(X_test)\n",
        "accuracy=accuracy_score(y_test,y_pred)\n",
        "accuracy"
      ]
    },
    {
      "cell_type": "markdown",
      "metadata": {
        "id": "k12Uv1Iy-N1f"
      },
      "source": [
        "### Punto 5 - Calibración de parámetros Random forest\n",
        "\n",
        "En la celda 5, calibren los parámetros max_depth, max_features y n_estimators del modelo de Randon Forest para clasificación. Presenten el acurracy del modelo en el set de test, comenten sus resultados y análicen cómo cada parámetro afecta el modelo."
      ]
    },
    {
      "cell_type": "code",
      "execution_count": null,
      "metadata": {
        "colab": {
          "base_uri": "https://localhost:8080/",
          "height": 298
        },
        "id": "jB0VJtnd-N1f",
        "outputId": "503bd5cc-56ab-4bb9-f1a9-79cc4f636e7e"
      },
      "outputs": [
        {
          "name": "stdout",
          "output_type": "stream",
          "text": [
            "20\n"
          ]
        },
        {
          "data": {
            "image/png": "[encoded data removed]",
            "text/plain": [
              "<Figure size 432x288 with 1 Axes>"
            ]
          },
          "metadata": {
            "needs_background": "light"
          },
          "output_type": "display_data"
        }
      ],
      "source": [
        "# Celda 5\n",
        "from sklearn.model_selection import cross_val_score\n",
        "import matplotlib.pyplot as plt\n",
        "\n",
        "accuracy_scores_n_estimators = []\n",
        "\n",
        "estimator_range = range(10, 510, 10)\n",
        "\n",
        "for estimator in estimator_range:\n",
        "    clf = RandomForestClassifier(n_estimators=estimator, random_state=1, n_jobs=-1)\n",
        "    accuracy_scores_n_estimators.append(cross_val_score(clf, X, y, cv=5, scoring='accuracy').mean())\n",
        "\n",
        "plt.plot(estimator_range, accuracy_scores_n_estimators)\n",
        "plt.xlabel('n_estimators')\n",
        "plt.ylabel('Accuracy')\n",
        "\n",
        "max_index = accuracy_scores_n_estimators.index(max(accuracy_scores_n_estimators))\n",
        "print(estimator_range[max_index])"
      ]
    },
    {
      "cell_type": "code",
      "execution_count": null,
      "metadata": {
        "scrolled": true,
        "id": "Ze3Eg09_qUBM",
        "outputId": "497aec58-b732-4291-93a6-abf77776b477"
      },
      "outputs": [
        {
          "name": "stdout",
          "output_type": "stream",
          "text": [
            "9\n"
          ]
        },
        {
          "data": {
            "image/png": "[encoded data removed]",
            "text/plain": [
              "<Figure size 432x288 with 1 Axes>"
            ]
          },
          "metadata": {
            "needs_background": "light"
          },
          "output_type": "display_data"
        }
      ],
      "source": [
        "accuracy_scores_max_features = []\n",
        "feature_cols=X_train.columns\n",
        "feature_range = range(1, len(feature_cols)+1)\n",
        "\n",
        "for feature in feature_range:\n",
        "    clf = RandomForestClassifier(n_estimators=20, max_features=feature, random_state=1, n_jobs=-1)\n",
        "    accuracy_scores_max_features.append(cross_val_score(clf, X, y, cv=5, scoring='accuracy').mean())\n",
        "    \n",
        "plt.plot(feature_range, accuracy_scores_max_features)\n",
        "plt.xlabel('n_features')\n",
        "plt.ylabel('Accuracy')\n",
        "\n",
        "max_index = accuracy_scores_max_features.index(max(accuracy_scores_max_features))\n",
        "print(feature_range[max_index])"
      ]
    },
    {
      "cell_type": "code",
      "execution_count": null,
      "metadata": {
        "id": "yijuuTIJqUBM",
        "outputId": "2e87f00c-ae2d-460b-81c3-5bec10bb5a99"
      },
      "outputs": [
        {
          "name": "stdout",
          "output_type": "stream",
          "text": [
            "5\n"
          ]
        },
        {
          "data": {
            "image/png": "[encoded data removed]",
            "text/plain": [
              "<Figure size 432x288 with 1 Axes>"
            ]
          },
          "metadata": {
            "needs_background": "light"
          },
          "output_type": "display_data"
        }
      ],
      "source": [
        "accuracy_scores_max_depth = []\n",
        "depth_range = range(1, 31)\n",
        "\n",
        "for depth in depth_range:\n",
        "    clf = RandomForestClassifier(n_estimators=20,max_features=9, max_depth=depth, random_state=1, n_jobs=-1)\n",
        "    accuracy_scores_max_depth.append(cross_val_score(clf, X, y, cv=5, scoring='accuracy').mean())\n",
        "    \n",
        "plt.plot(depth_range, accuracy_scores_max_depth)\n",
        "plt.xlabel('n_depth')\n",
        "plt.ylabel('Accuracy')\n",
        "\n",
        "max_index = accuracy_scores_max_depth.index(max(accuracy_scores_max_depth))\n",
        "print(depth_range[max_index])"
      ]
    },
    {
      "cell_type": "code",
      "execution_count": null,
      "metadata": {
        "id": "KP0-NDcDqUBN",
        "outputId": "bea80184-12e8-41c4-ff4f-d32a7b3fd822"
      },
      "outputs": [
        {
          "data": {
            "text/plain": [
              "0.8888568129330254"
            ]
          },
          "execution_count": 17,
          "metadata": {},
          "output_type": "execute_result"
        }
      ],
      "source": [
        "clf_tunning = RandomForestClassifier(n_estimators=20,max_features=9, max_depth=5, random_state=1, n_jobs=-1)\n",
        "clf_tunning.fit(X_train, y_train)\n",
        "\n",
        "y_pred_tunning=clf_tunning.predict(X_test)\n",
        "accuracy=accuracy_score(y_test,y_pred_tunning)\n",
        "accuracy"
      ]
    },
    {
      "cell_type": "markdown",
      "metadata": {
        "id": "fcBE5F_a-N1g"
      },
      "source": [
        "### Punto 6 - XGBoost con librería\n",
        "\n",
        "En la celda 6 implementen un modelo XGBoost de clasificación con la librería sklearn, presenten el acurracy del modelo en el set de test y comenten sus resultados."
      ]
    },
    {
      "cell_type": "code",
      "execution_count": null,
      "metadata": {
        "id": "9v4IUNv5-N1g",
        "outputId": "763596b6-06f8-44ac-a929-ed29e9edc2b3"
      },
      "outputs": [
        {
          "data": {
            "text/plain": [
              "XGBClassifier(base_score=None, booster=None, colsample_bylevel=None,\n",
              "              colsample_bynode=None, colsample_bytree=None,\n",
              "              enable_categorical=False, gamma=None, gpu_id=None,\n",
              "              importance_type=None, interaction_constraints=None,\n",
              "              learning_rate=None, max_delta_step=None, max_depth=None,\n",
              "              min_child_weight=None, missing=nan, monotone_constraints=None,\n",
              "              n_estimators=100, n_jobs=None, num_parallel_tree=None,\n",
              "              predictor=None, random_state=None, reg_alpha=None,\n",
              "              reg_lambda=None, scale_pos_weight=None, subsample=None,\n",
              "              tree_method=None, validate_parameters=None, verbosity=0)"
            ]
          },
          "execution_count": 32,
          "metadata": {},
          "output_type": "execute_result"
        }
      ],
      "source": [
        "# Celda 6\n",
        "from xgboost import XGBClassifier\n",
        "clf_XG = XGBClassifier(verbosity = 0)\n",
        "clf_XG"
      ]
    },
    {
      "cell_type": "code",
      "execution_count": null,
      "metadata": {
        "id": "_IoOB_3JqUBO",
        "outputId": "5d1febdb-d3eb-424a-8340-4e502043c4bf"
      },
      "outputs": [
        {
          "data": {
            "text/plain": [
              "0.8856812933025404"
            ]
          },
          "execution_count": 33,
          "metadata": {},
          "output_type": "execute_result"
        }
      ],
      "source": [
        "clf_XG.fit(X_train, y_train)\n",
        "\n",
        "y_pred_XG=clf_XG.predict(X_test)\n",
        "accuracy=accuracy_score(y_test,y_pred_XG)\n",
        "accuracy"
      ]
    },
    {
      "cell_type": "markdown",
      "metadata": {
        "id": "KL34buA5-N1g"
      },
      "source": [
        "### Punto 7 - Calibración de parámetros XGBoost\n",
        "\n",
        "En la celda 7 calibren los parámetros learning rate, gamma y colsample_bytree del modelo XGBoost para clasificación. Presenten el acurracy del modelo en el set de test, comenten sus resultados y análicen cómo cada parámetro afecta el modelo."
      ]
    },
    {
      "cell_type": "code",
      "execution_count": null,
      "metadata": {
        "id": "F5jTA4FE-N1g",
        "scrolled": true,
        "outputId": "02ec65d0-150c-45e6-ee8f-ebc4e5e2d0ef"
      },
      "outputs": [
        {
          "name": "stdout",
          "output_type": "stream",
          "text": [
            "0.1\n"
          ]
        },
        {
          "data": {
            "image/png": "[encoded data removed]",
            "text/plain": [
              "<Figure size 432x288 with 1 Axes>"
            ]
          },
          "metadata": {
            "needs_background": "light"
          },
          "output_type": "display_data"
        }
      ],
      "source": [
        "# Celda 7\n",
        "\n",
        "accuracy_scores_lr = []\n",
        "\n",
        "lr_range = np.arange(0.1, 1.0, 0.1)\n",
        "\n",
        "for lr in lr_range:\n",
        "    clf_XG = XGBClassifier(learning_rate=lr,verbosity = 0)\n",
        "    accuracy_scores_lr.append(cross_val_score(clf_XG, X, y, cv=5, scoring='accuracy').mean())\n",
        "\n",
        "plt.plot(lr_range, accuracy_scores_lr)\n",
        "plt.xlabel('Learning_Rate')\n",
        "plt.ylabel('Accuracy')\n",
        "\n",
        "max_index = accuracy_scores_lr.index(max(accuracy_scores_lr))\n",
        "print(lr_range[max_index])"
      ]
    },
    {
      "cell_type": "code",
      "execution_count": null,
      "metadata": {
        "scrolled": true,
        "id": "TQKw2QhjqUBP",
        "outputId": "7e8483e3-dd4c-4ae0-bfda-2068e79e1b34"
      },
      "outputs": [
        {
          "name": "stdout",
          "output_type": "stream",
          "text": [
            "9\n"
          ]
        },
        {
          "data": {
            "image/png": "[encoded data removed]",
            "text/plain": [
              "<Figure size 432x288 with 1 Axes>"
            ]
          },
          "metadata": {
            "needs_background": "light"
          },
          "output_type": "display_data"
        }
      ],
      "source": [
        "accuracy_scores_gamma = []\n",
        "\n",
        "gamma_range = np.arange(0, 101, 1)\n",
        "\n",
        "for gamma in gamma_range:\n",
        "    clf_XG = XGBClassifier(learning_rate=0.1,gamma=gamma,verbosity = 0)\n",
        "    accuracy_scores_gamma.append(cross_val_score(clf_XG, X, y, cv=5, scoring='accuracy').mean())\n",
        "\n",
        "plt.plot(gamma_range, accuracy_scores_gamma)\n",
        "plt.xlabel('Gamma')\n",
        "plt.ylabel('Accuracy')\n",
        "\n",
        "max_index = accuracy_scores_gamma.index(max(accuracy_scores_gamma))\n",
        "print(gamma_range[max_index])"
      ]
    },
    {
      "cell_type": "code",
      "execution_count": null,
      "metadata": {
        "id": "xeUy3ELIqUBP",
        "outputId": "12e0fe01-a7c4-4551-c3d7-43baf81d69f0"
      },
      "outputs": [
        {
          "name": "stdout",
          "output_type": "stream",
          "text": [
            "0.4\n"
          ]
        },
        {
          "data": {
            "image/png": "[encoded data removed]",
            "text/plain": [
              "<Figure size 432x288 with 1 Axes>"
            ]
          },
          "metadata": {
            "needs_background": "light"
          },
          "output_type": "display_data"
        }
      ],
      "source": [
        "accuracy_scores_colsam = []\n",
        "\n",
        "colsam_range = np.arange(0.1, 1.0, 0.1)\n",
        "\n",
        "for colsam in colsam_range:\n",
        "    clf_XG = XGBClassifier(learning_rate=0.1,gamma=9,colsample_bytree=colsam ,verbosity = 0)\n",
        "    accuracy_scores_colsam.append(cross_val_score(clf_XG, X, y, cv=5, scoring='accuracy').mean())\n",
        "\n",
        "plt.plot(colsam_range, accuracy_scores_colsam)\n",
        "plt.xlabel('Gamma')\n",
        "plt.ylabel('Accuracy')\n",
        "\n",
        "max_index = accuracy_scores_colsam.index(max(accuracy_scores_colsam))\n",
        "print(colsam_range[max_index])"
      ]
    },
    {
      "cell_type": "code",
      "execution_count": null,
      "metadata": {
        "id": "-ly2_ZHFqUBP",
        "outputId": "79f37727-45c5-44c8-cc53-1ca2d0c683f3"
      },
      "outputs": [
        {
          "data": {
            "text/plain": [
              "0.8856812933025404"
            ]
          },
          "execution_count": 31,
          "metadata": {},
          "output_type": "execute_result"
        }
      ],
      "source": [
        "clf_XGtunning = XGBClassifier(learning_rate=0.1,gamma=9,colsample_bytree=0.4 ,verbosity = 0)\n",
        "clf_XGtunning.fit(X_train, y_train)\n",
        "\n",
        "y_pred_XGtunning=clf_XGtunning.predict(X_test)\n",
        "accuracy=accuracy_score(y_test,y_pred_XGtunning)\n",
        "accuracy"
      ]
    },
    {
      "cell_type": "markdown",
      "metadata": {
        "id": "_m71r1Yp-N1h"
      },
      "source": [
        "### Punto 8 - Comparación y análisis de resultados\n",
        "En la celda 8 comparen los resultados obtenidos de los diferentes modelos (random forest y XGBoost) y comenten las ventajas del mejor modelo y las desventajas del modelo con el menor desempeño."
      ]
    },
    {
      "cell_type": "code",
      "execution_count": null,
      "metadata": {
        "id": "A53FH1e8-N1h"
      },
      "outputs": [],
      "source": [
        "# Celda 8\n"
      ]
    }
  ],
  "metadata": {
    "colab": {
      "name": "S2TC1_RandomForests_Boosting - Solucion.ipynb",
      "provenance": [],
      "include_colab_link": true
    },
    "kernelspec": {
      "display_name": "Python 3",
      "language": "python",
      "name": "python3"
    },
    "language_info": {
      "codemirror_mode": {
        "name": "ipython",
        "version": 3
      },
      "file_extension": ".py",
      "mimetype": "text/x-python",
      "name": "python",
      "nbconvert_exporter": "python",
      "pygments_lexer": "ipython3",
      "version": "3.8.8"
    }
  },
  "nbformat": 4,
  "nbformat_minor": 0
}