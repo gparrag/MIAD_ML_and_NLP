{
  "cells": [
    {
      "cell_type": "markdown",
      "metadata": {
        "id": "2gtikl9iSOe1"
      },
      "source": [
        "![image info](https://raw.githubusercontent.com/albahnsen/MIAD_ML_and_NLP/main/images/banner_1.png)"
      ]
    },
    {
      "cell_type": "markdown",
      "metadata": {
        "id": "TCQ5vChpSOe2"
      },
      "source": [
        "# Taller: Construcción e implementación de árboles de decisión y métodos de ensamblaje\n",
        "\n",
        "En este taller podrá poner en práctica los sus conocimientos sobre construcción e implementación de árboles de decisión y métodos de ensamblajes. El taller está constituido por 9 puntos, 5 relacionados con árboles de decisión (parte A) y 4 con métodos de ensamblaje (parte B)."
      ]
    },
    {
      "cell_type": "markdown",
      "metadata": {
        "id": "FjA7uBcDSOe2"
      },
      "source": [
        "## Parte A - Árboles de decisión\n",
        "\n",
        "En esta parte del taller se usará el conjunto de datos de Capital Bikeshare de Kaggle, donde cada observación representa el alquiler de una bicicleta durante una hora y día determinado. Para más detalles puede visitar los siguientes enlaces: [datos](https://github.com/justmarkham/DAT8/blob/master/data/bikeshare.csv), [dicccionario de datos](https://www.kaggle.com/c/bike-sharing-demand/data)."
      ]
    },
    {
      "cell_type": "markdown",
      "metadata": {
        "id": "2wbcoUifSOe3"
      },
      "source": [
        "### Datos prestamo de bicicletas"
      ]
    },
    {
      "cell_type": "code",
      "execution_count": 1,
      "metadata": {
        "id": "aFOmW-jTSOe3"
      },
      "outputs": [],
      "source": [
        "import warnings\n",
        "warnings.filterwarnings('ignore')"
      ]
    },
    {
      "cell_type": "code",
      "execution_count": 2,
      "metadata": {
        "id": "7H1aBv1VSOe4"
      },
      "outputs": [],
      "source": [
        "# Importación de librerías\n",
        "%matplotlib inline\n",
        "import pandas as pd\n",
        "import numpy as np\n",
        "from sklearn.model_selection import cross_val_score\n",
        "from sklearn.linear_model import LinearRegression\n",
        "from sklearn.tree import DecisionTreeRegressor, export_graphviz"
      ]
    },
    {
      "cell_type": "code",
      "execution_count": 3,
      "metadata": {
        "colab": {
          "base_uri": "https://localhost:8080/",
          "height": 237
        },
        "id": "2nEGHVRJSOe4",
        "outputId": "f02414c1-d438-4c0d-c9bc-d4a985f6c9e4"
      },
      "outputs": [
        {
          "output_type": "execute_result",
          "data": {
            "text/plain": [
              "                     season  holiday  workingday  weather  temp   atemp  \\\n",
              "datetime                                                                  \n",
              "2011-01-01 00:00:00       1        0           0        1  9.84  14.395   \n",
              "2011-01-01 01:00:00       1        0           0        1  9.02  13.635   \n",
              "2011-01-01 02:00:00       1        0           0        1  9.02  13.635   \n",
              "2011-01-01 03:00:00       1        0           0        1  9.84  14.395   \n",
              "2011-01-01 04:00:00       1        0           0        1  9.84  14.395   \n",
              "\n",
              "                     humidity  windspeed  casual  registered  total  hour  \n",
              "datetime                                                                   \n",
              "2011-01-01 00:00:00        81        0.0       3          13     16     0  \n",
              "2011-01-01 01:00:00        80        0.0       8          32     40     1  \n",
              "2011-01-01 02:00:00        80        0.0       5          27     32     2  \n",
              "2011-01-01 03:00:00        75        0.0       3          10     13     3  \n",
              "2011-01-01 04:00:00        75        0.0       0           1      1     4  "
            ],
            "text/html": [
              "\n",
              "  <div id=\"df-344a52de-c322-42a9-a9be-76867d14ce93\">\n",
              "    <div class=\"colab-df-container\">\n",
              "      <div>\n",
              "<style scoped>\n",
              "    .dataframe tbody tr th:only-of-type {\n",
              "        vertical-align: middle;\n",
              "    }\n",
              "\n",
              "    .dataframe tbody tr th {\n",
              "        vertical-align: top;\n",
              "    }\n",
              "\n",
              "    .dataframe thead th {\n",
              "        text-align: right;\n",
              "    }\n",
              "</style>\n",
              "<table border=\"1\" class=\"dataframe\">\n",
              "  <thead>\n",
              "    <tr style=\"text-align: right;\">\n",
              "      <th></th>\n",
              "      <th>season</th>\n",
              "      <th>holiday</th>\n",
              "      <th>workingday</th>\n",
              "      <th>weather</th>\n",
              "      <th>temp</th>\n",
              "      <th>atemp</th>\n",
              "      <th>humidity</th>\n",
              "      <th>windspeed</th>\n",
              "      <th>casual</th>\n",
              "      <th>registered</th>\n",
              "      <th>total</th>\n",
              "      <th>hour</th>\n",
              "    </tr>\n",
              "    <tr>\n",
              "      <th>datetime</th>\n",
              "      <th></th>\n",
              "      <th></th>\n",
              "      <th></th>\n",
              "      <th></th>\n",
              "      <th></th>\n",
              "      <th></th>\n",
              "      <th></th>\n",
              "      <th></th>\n",
              "      <th></th>\n",
              "      <th></th>\n",
              "      <th></th>\n",
              "      <th></th>\n",
              "    </tr>\n",
              "  </thead>\n",
              "  <tbody>\n",
              "    <tr>\n",
              "      <th>2011-01-01 00:00:00</th>\n",
              "      <td>1</td>\n",
              "      <td>0</td>\n",
              "      <td>0</td>\n",
              "      <td>1</td>\n",
              "      <td>9.84</td>\n",
              "      <td>14.395</td>\n",
              "      <td>81</td>\n",
              "      <td>0.0</td>\n",
              "      <td>3</td>\n",
              "      <td>13</td>\n",
              "      <td>16</td>\n",
              "      <td>0</td>\n",
              "    </tr>\n",
              "    <tr>\n",
              "      <th>2011-01-01 01:00:00</th>\n",
              "      <td>1</td>\n",
              "      <td>0</td>\n",
              "      <td>0</td>\n",
              "      <td>1</td>\n",
              "      <td>9.02</td>\n",
              "      <td>13.635</td>\n",
              "      <td>80</td>\n",
              "      <td>0.0</td>\n",
              "      <td>8</td>\n",
              "      <td>32</td>\n",
              "      <td>40</td>\n",
              "      <td>1</td>\n",
              "    </tr>\n",
              "    <tr>\n",
              "      <th>2011-01-01 02:00:00</th>\n",
              "      <td>1</td>\n",
              "      <td>0</td>\n",
              "      <td>0</td>\n",
              "      <td>1</td>\n",
              "      <td>9.02</td>\n",
              "      <td>13.635</td>\n",
              "      <td>80</td>\n",
              "      <td>0.0</td>\n",
              "      <td>5</td>\n",
              "      <td>27</td>\n",
              "      <td>32</td>\n",
              "      <td>2</td>\n",
              "    </tr>\n",
              "    <tr>\n",
              "      <th>2011-01-01 03:00:00</th>\n",
              "      <td>1</td>\n",
              "      <td>0</td>\n",
              "      <td>0</td>\n",
              "      <td>1</td>\n",
              "      <td>9.84</td>\n",
              "      <td>14.395</td>\n",
              "      <td>75</td>\n",
              "      <td>0.0</td>\n",
              "      <td>3</td>\n",
              "      <td>10</td>\n",
              "      <td>13</td>\n",
              "      <td>3</td>\n",
              "    </tr>\n",
              "    <tr>\n",
              "      <th>2011-01-01 04:00:00</th>\n",
              "      <td>1</td>\n",
              "      <td>0</td>\n",
              "      <td>0</td>\n",
              "      <td>1</td>\n",
              "      <td>9.84</td>\n",
              "      <td>14.395</td>\n",
              "      <td>75</td>\n",
              "      <td>0.0</td>\n",
              "      <td>0</td>\n",
              "      <td>1</td>\n",
              "      <td>1</td>\n",
              "      <td>4</td>\n",
              "    </tr>\n",
              "  </tbody>\n",
              "</table>\n",
              "</div>\n",
              "      <button class=\"colab-df-convert\" onclick=\"convertToInteractive('df-344a52de-c322-42a9-a9be-76867d14ce93')\"\n",
              "              title=\"Convert this dataframe to an interactive table.\"\n",
              "              style=\"display:none;\">\n",
              "        \n",
              "  <svg xmlns=\"http://www.w3.org/2000/svg\" height=\"24px\"viewBox=\"0 0 24 24\"\n",
              "       width=\"24px\">\n",
              "    <path d=\"M0 0h24v24H0V0z\" fill=\"none\"/>\n",
              "    <path d=\"M18.56 5.44l.94 2.06.94-2.06 2.06-.94-2.06-.94-.94-2.06-.94 2.06-2.06.94zm-11 1L8.5 8.5l.94-2.06 2.06-.94-2.06-.94L8.5 2.5l-.94 2.06-2.06.94zm10 10l.94 2.06.94-2.06 2.06-.94-2.06-.94-.94-2.06-.94 2.06-2.06.94z\"/><path d=\"M17.41 7.96l-1.37-1.37c-.4-.4-.92-.59-1.43-.59-.52 0-1.04.2-1.43.59L10.3 9.45l-7.72 7.72c-.78.78-.78 2.05 0 2.83L4 21.41c.39.39.9.59 1.41.59.51 0 1.02-.2 1.41-.59l7.78-7.78 2.81-2.81c.8-.78.8-2.07 0-2.86zM5.41 20L4 18.59l7.72-7.72 1.47 1.35L5.41 20z\"/>\n",
              "  </svg>\n",
              "      </button>\n",
              "      \n",
              "  <style>\n",
              "    .colab-df-container {\n",
              "      display:flex;\n",
              "      flex-wrap:wrap;\n",
              "      gap: 12px;\n",
              "    }\n",
              "\n",
              "    .colab-df-convert {\n",
              "      background-color: #E8F0FE;\n",
              "      border: none;\n",
              "      border-radius: 50%;\n",
              "      cursor: pointer;\n",
              "      display: none;\n",
              "      fill: #1967D2;\n",
              "      height: 32px;\n",
              "      padding: 0 0 0 0;\n",
              "      width: 32px;\n",
              "    }\n",
              "\n",
              "    .colab-df-convert:hover {\n",
              "      background-color: #E2EBFA;\n",
              "      box-shadow: 0px 1px 2px rgba(60, 64, 67, 0.3), 0px 1px 3px 1px rgba(60, 64, 67, 0.15);\n",
              "      fill: #174EA6;\n",
              "    }\n",
              "\n",
              "    [theme=dark] .colab-df-convert {\n",
              "      background-color: #3B4455;\n",
              "      fill: #D2E3FC;\n",
              "    }\n",
              "\n",
              "    [theme=dark] .colab-df-convert:hover {\n",
              "      background-color: #434B5C;\n",
              "      box-shadow: 0px 1px 3px 1px rgba(0, 0, 0, 0.15);\n",
              "      filter: drop-shadow(0px 1px 2px rgba(0, 0, 0, 0.3));\n",
              "      fill: #FFFFFF;\n",
              "    }\n",
              "  </style>\n",
              "\n",
              "      <script>\n",
              "        const buttonEl =\n",
              "          document.querySelector('#df-344a52de-c322-42a9-a9be-76867d14ce93 button.colab-df-convert');\n",
              "        buttonEl.style.display =\n",
              "          google.colab.kernel.accessAllowed ? 'block' : 'none';\n",
              "\n",
              "        async function convertToInteractive(key) {\n",
              "          const element = document.querySelector('#df-344a52de-c322-42a9-a9be-76867d14ce93');\n",
              "          const dataTable =\n",
              "            await google.colab.kernel.invokeFunction('convertToInteractive',\n",
              "                                                     [key], {});\n",
              "          if (!dataTable) return;\n",
              "\n",
              "          const docLinkHtml = 'Like what you see? Visit the ' +\n",
              "            '<a target=\"_blank\" href=https://colab.research.google.com/notebooks/data_table.ipynb>data table notebook</a>'\n",
              "            + ' to learn more about interactive tables.';\n",
              "          element.innerHTML = '';\n",
              "          dataTable['output_type'] = 'display_data';\n",
              "          await google.colab.output.renderOutput(dataTable, element);\n",
              "          const docLink = document.createElement('div');\n",
              "          docLink.innerHTML = docLinkHtml;\n",
              "          element.appendChild(docLink);\n",
              "        }\n",
              "      </script>\n",
              "    </div>\n",
              "  </div>\n",
              "  "
            ]
          },
          "metadata": {},
          "execution_count": 3
        }
      ],
      "source": [
        "# Lectura de la información de archivo .csv\n",
        "bikes = pd.read_csv('https://raw.githubusercontent.com/albahnsen/MIAD_ML_and_NLP/main/datasets/bikeshare.csv', index_col='datetime', parse_dates=True)\n",
        "# Renombrar variable \"count\" a \"total\"\n",
        "bikes.rename(columns={'count':'total'}, inplace=True)\n",
        "# Crear la hora como una variable \n",
        "bikes['hour'] = bikes.index.hour\n",
        "# Visualización\n",
        "bikes.head()"
      ]
    },
    {
      "cell_type": "markdown",
      "metadata": {
        "id": "9tGaWN4dSOe5"
      },
      "source": [
        "### Punto 1 - Análisis descriptivo\n",
        "\n",
        "Ejecute las celdas 1.1 y 1.2. A partir de los resultados realice un análisis descriptivo sobre las variables hour y workingday, escriba sus inferencias sobre los datos. Para complementar su análisis puede usar métricas como máximo, mínimo, percentiles entre otros."
      ]
    },
    {
      "cell_type": "code",
      "execution_count": 12,
      "metadata": {
        "colab": {
          "base_uri": "https://localhost:8080/"
        },
        "id": "Xcw1f2ipSOe5",
        "outputId": "a466d306-a30b-4ba1-e1fa-fd26a016a257"
      },
      "outputs": [
        {
          "output_type": "execute_result",
          "data": {
            "text/plain": [
              "workingday\n",
              "0    188.506621\n",
              "1    193.011873\n",
              "Name: total, dtype: float64"
            ]
          },
          "metadata": {},
          "execution_count": 12
        }
      ],
      "source": [
        "# Celda 1.1\n",
        "bikes.groupby('workingday').total.mean()"
      ]
    },
    {
      "cell_type": "code",
      "source": [
        "bikes.boxplot(column='total',by='workingday')"
      ],
      "metadata": {
        "colab": {
          "base_uri": "https://localhost:8080/",
          "height": 319
        },
        "id": "QxYFbRTKaR8G",
        "outputId": "51554911-b179-45e5-9a59-38bd07d82405"
      },
      "execution_count": 20,
      "outputs": [
        {
          "output_type": "execute_result",
          "data": {
            "text/plain": [
              "<matplotlib.axes._subplots.AxesSubplot at 0x7fcfe75f8490>"
            ]
          },
          "metadata": {},
          "execution_count": 20
        },
        {
          "output_type": "display_data",
          "data": {
            "text/plain": [
              "<Figure size 432x288 with 1 Axes>"
            ],
            "image/png": "[encoded data removed]"
          },
          "metadata": {
            "needs_background": "light"
          }
        }
      ]
    },
    {
      "cell_type": "code",
      "execution_count": 9,
      "metadata": {
        "scrolled": true,
        "colab": {
          "base_uri": "https://localhost:8080/"
        },
        "id": "ToFgv_f0SOe5",
        "outputId": "56b35205-1642-49cd-dc02-f5978a2965f7"
      },
      "outputs": [
        {
          "output_type": "execute_result",
          "data": {
            "text/plain": [
              "hour\n",
              "0      55.138462\n",
              "1      33.859031\n",
              "2      22.899554\n",
              "3      11.757506\n",
              "4       6.407240\n",
              "5      19.767699\n",
              "6      76.259341\n",
              "7     213.116484\n",
              "8     362.769231\n",
              "9     221.780220\n",
              "10    175.092308\n",
              "11    210.674725\n",
              "12    256.508772\n",
              "13    257.787281\n",
              "14    243.442982\n",
              "15    254.298246\n",
              "16    316.372807\n",
              "17    468.765351\n",
              "18    430.859649\n",
              "19    315.278509\n",
              "20    228.517544\n",
              "21    173.370614\n",
              "22    133.576754\n",
              "23     89.508772\n",
              "Name: total, dtype: float64"
            ]
          },
          "metadata": {},
          "execution_count": 9
        }
      ],
      "source": [
        "# Celda 1.2\n",
        "bikes.groupby('hour').total.mean()"
      ]
    },
    {
      "cell_type": "code",
      "source": [
        "bikes.boxplot(column='total',by='hour')"
      ],
      "metadata": {
        "colab": {
          "base_uri": "https://localhost:8080/",
          "height": 319
        },
        "id": "-bsH7W0bbNLI",
        "outputId": "83967b69-f4a4-43dc-8ae4-829b224f2c73"
      },
      "execution_count": 21,
      "outputs": [
        {
          "output_type": "execute_result",
          "data": {
            "text/plain": [
              "<matplotlib.axes._subplots.AxesSubplot at 0x7fcfe741ce10>"
            ]
          },
          "metadata": {},
          "execution_count": 21
        },
        {
          "output_type": "display_data",
          "data": {
            "text/plain": [
              "<Figure size 432x288 with 1 Axes>"
            ],
            "image/png": "[encoded data removed]"
          },
          "metadata": {
            "needs_background": "light"
          }
        }
      ]
    },
    {
      "cell_type": "markdown",
      "source": [
        "A pesar de que la media de usuarios por hora por día es muy similar entre los dias laborales a los no laborales, su distribución es muy diferente, y se presentan mayores datos extremos en los días laborales.\n",
        "\n",
        "En cuanto a la distribución de los datos por hora se presentan horas de mayor demanda de renta, que parecen ser los horarios de entrada y salida de oficina, y que entre dichas horas también se presenta en promedio un consumo constante, con gran cantidad de datos extremos."
      ],
      "metadata": {
        "id": "haY8xuGJS-r7"
      }
    },
    {
      "cell_type": "markdown",
      "metadata": {
        "id": "U7JoyuP9SOe5"
      },
      "source": [
        "### Punto 2 - Análisis de gráficos\n",
        "\n",
        "Primero ejecute la celda 2.1 y asegúrese de comprender el código y el resultado. Luego, en cada una de celdas 2.2 y 2.3 escriba un código que genere una gráfica de las rentas promedio por hora cuando la variable \"workingday\" es igual a 0 e igual a 1, respectivamente. Analice y escriba sus hallazgos."
      ]
    },
    {
      "cell_type": "code",
      "execution_count": 26,
      "metadata": {
        "colab": {
          "base_uri": "https://localhost:8080/",
          "height": 297
        },
        "id": "i5cfPCkESOe6",
        "outputId": "57ae1058-8ed3-4d18-cc61-8c2090fb77e5"
      },
      "outputs": [
        {
          "output_type": "execute_result",
          "data": {
            "text/plain": [
              "<matplotlib.axes._subplots.AxesSubplot at 0x7fcfe6fc4ad0>"
            ]
          },
          "metadata": {},
          "execution_count": 26
        },
        {
          "output_type": "display_data",
          "data": {
            "text/plain": [
              "<Figure size 432x288 with 1 Axes>"
            ],
            "image/png": "[encoded data removed]"
          },
          "metadata": {
            "needs_background": "light"
          }
        }
      ],
      "source": [
        "# Celda 2.1 - rentas promedio para cada valor de la variable \"hour\"\n",
        "bikes.groupby('hour').total.mean().plot()"
      ]
    },
    {
      "cell_type": "code",
      "execution_count": 27,
      "metadata": {
        "colab": {
          "base_uri": "https://localhost:8080/",
          "height": 297
        },
        "id": "MZ3qpxM0SOe6",
        "outputId": "c244003f-dd59-4891-df1b-067f02f181c5"
      },
      "outputs": [
        {
          "output_type": "execute_result",
          "data": {
            "text/plain": [
              "<matplotlib.axes._subplots.AxesSubplot at 0x7fcfe6f8ee50>"
            ]
          },
          "metadata": {},
          "execution_count": 27
        },
        {
          "output_type": "display_data",
          "data": {
            "text/plain": [
              "<Figure size 432x288 with 1 Axes>"
            ],
            "image/png": "[encoded data removed]"
          },
          "metadata": {
            "needs_background": "light"
          }
        }
      ],
      "source": [
        "# Celda 2.2 - \"workingday\"=0 escriba su código y hallazgos \n",
        "bikes[bikes.workingday==1].groupby('hour').total.mean().plot.line()"
      ]
    },
    {
      "cell_type": "markdown",
      "source": [
        "De la información del análisis descriptivo de las variables 'workingday' y 'hour' se oberva que para los días laborales se presentan dos picos de usuarios durante el día, que corresponden de 7 a 9 de la mañana, y de 4 a 7 de la noche, horas de entrada a la oficina y de regreso a casa."
      ],
      "metadata": {
        "id": "S0YUC89neXoL"
      }
    },
    {
      "cell_type": "code",
      "execution_count": 28,
      "metadata": {
        "colab": {
          "base_uri": "https://localhost:8080/",
          "height": 298
        },
        "id": "F23a-_gvSOe6",
        "outputId": "8c6c470d-6468-4417-8c5f-425586d19391"
      },
      "outputs": [
        {
          "output_type": "execute_result",
          "data": {
            "text/plain": [
              "<matplotlib.axes._subplots.AxesSubplot at 0x7fcfe6f00f90>"
            ]
          },
          "metadata": {},
          "execution_count": 28
        },
        {
          "output_type": "display_data",
          "data": {
            "text/plain": [
              "<Figure size 432x288 with 1 Axes>"
            ],
            "image/png": "[encoded data removed]"
          },
          "metadata": {
            "needs_background": "light"
          }
        }
      ],
      "source": [
        "# Celda 2.3 - \"workingday\"=1 escriba su código y hallazgos \n",
        "bikes[bikes.workingday==0].groupby('hour').total.mean().plot.line()"
      ]
    },
    {
      "cell_type": "markdown",
      "source": [
        " En el caso de días no laborales, el pico de usuarios se presenta entre las 10 de la mañana y 6 de la tarde, que haría pensar que son usuarios que rentan por deporte o por recreación."
      ],
      "metadata": {
        "id": "ETWld7phefut"
      }
    },
    {
      "cell_type": "markdown",
      "metadata": {
        "id": "pX3OUwiMSOe6"
      },
      "source": [
        "### Punto 3 - Regresión lineal\n",
        "En la celda 3 ajuste un modelo de regresión lineal a todo el conjunto de datos, utilizando \"total\" como variable de respuesta y \"hour\" y \"workingday\" como las únicas variables predictoras. Luego, imprima los coeficientes e interprételos. ¿Cuáles son las limitaciones de la regresión lineal en este caso?"
      ]
    },
    {
      "cell_type": "code",
      "execution_count": 33,
      "metadata": {
        "colab": {
          "base_uri": "https://localhost:8080/"
        },
        "id": "HVg9kaqTSOe6",
        "outputId": "6f51a582-3ad7-462d-e0f5-7d4b52151daa"
      },
      "outputs": [
        {
          "output_type": "stream",
          "name": "stdout",
          "text": [
            "['hour' 'workingday']\n",
            "[10.49206282  4.07248627]\n"
          ]
        }
      ],
      "source": [
        "# Celda 3\n",
        "from sklearn.linear_model import LinearRegression\n",
        "X= bikes[['hour','workingday']]\n",
        "y=bikes['total']\n",
        "reg = LinearRegression().fit(X, y)\n",
        "print(reg.feature_names_in_)\n",
        "print(reg.coef_)\n"
      ]
    },
    {
      "cell_type": "markdown",
      "source": [
        "En este caso las limitaciones del modelo de regresión lineal se presentan en la variable 'hour', ya que como se evidenció en el analisis descriptivo la relación entre hour y total no es lineal. el coeficiente de 10 en este caso quiere decir que por cada hora que se aumente, la variable total aumentará en 10 unidades, situación que no sucede en los datos iniciales. En el caso de workingday, al ser un día laboral aumenta en 4 el valor de la variable total, caso que tampoco es cierto en el analisis inicial de estas variables "
      ],
      "metadata": {
        "id": "8prHnLqfgB7N"
      }
    },
    {
      "cell_type": "markdown",
      "metadata": {
        "id": "iYSSyNvzSOe7"
      },
      "source": [
        "### Punto 4 - Árbol de decisión manual\n",
        "En la celda 4 cree un árbol de decisiones para pronosticar la variable \"total\" iterando **manualmente** sobre las variables \"hour\" y  \"workingday\". El árbol debe tener al menos 6 nodos finales."
      ]
    },
    {
      "cell_type": "code",
      "execution_count": 84,
      "metadata": {
        "id": "01ntt41ZSOe7"
      },
      "outputs": [],
      "source": [
        "# Celda 4\n",
        "import numpy as np\n",
        "def mse(y):\n",
        "  # y=pd.DataFrame(y)\n",
        "  if y.shape[0] == 0:\n",
        "      return 0\n",
        "  else:\n",
        "      return ((y-y.mean())**2).mean()\n",
        "\n",
        "def newmse(X_col, y, split):\n",
        "    \n",
        "    filter_l = X_col < split\n",
        "    y_l = y.loc[filter_l]\n",
        "    y_r = y.loc[~filter_l]\n",
        "    \n",
        "    newmse_ = mse(y_l) + mse(y_r)\n",
        "    \n",
        "    return newmse_"
      ]
    },
    {
      "cell_type": "code",
      "source": [
        "def best_split(X, y):\n",
        "    \n",
        "    features = range(X.shape[1])\n",
        "    \n",
        "    best_split = [0, 0,-1]  # j, split, newmse\n",
        "    \n",
        "    # Para todas las varibles \n",
        "    for j in features:\n",
        "        \n",
        "        splits = X.iloc[:, j].unique().tolist()\n",
        "        print(splits)\n",
        "        # Para cada partición\n",
        "        for split in splits:\n",
        "            newmse1 = newmse(X.iloc[:, j], y, split)\n",
        "            print(split)\n",
        "            print(newmse1)          \n",
        "            if newmse1 <= best_split[2] or best_split[2]==-1:\n",
        "                best_split = [j, split, newmse1]\n",
        "    \n",
        "    return best_split"
      ],
      "metadata": {
        "id": "eRhDtgZmtdSo"
      },
      "execution_count": 89,
      "outputs": []
    },
    {
      "cell_type": "code",
      "source": [
        "prueba=best_split(X,y)\n",
        "prueba"
      ],
      "metadata": {
        "id": "lLF4sBLnxt2K",
        "outputId": "6edea757-804a-42c6-dbd2-f0b2a77a888b",
        "colab": {
          "base_uri": "https://localhost:8080/"
        }
      },
      "execution_count": 90,
      "outputs": [
        {
          "output_type": "stream",
          "name": "stdout",
          "text": [
            "[0, 1, 2, 3, 4, 5, 6, 7, 8, 9, 10, 11, 12, 13, 14, 15, 16, 17, 18, 19, 20, 21, 22, 23]\n",
            "0\n",
            "32810.29888623418\n",
            "1\n",
            "35209.802852665765\n",
            "2\n",
            "35143.284499001624\n",
            "3\n",
            "34839.74071113478\n",
            "4\n",
            "34205.71677890031\n",
            "5\n",
            "33221.7624761003\n",
            "6\n",
            "32157.94531800418\n",
            "7\n",
            "32643.141379297136\n",
            "8\n",
            "39489.82209392284\n",
            "9\n",
            "51762.72861859943\n",
            "10\n",
            "53302.91259010495\n",
            "11\n",
            "53617.942888286794\n",
            "12\n",
            "54956.12495126873\n",
            "13\n",
            "57263.69409308019\n",
            "14\n",
            "59405.515277136146\n",
            "15\n",
            "61291.17884627047\n",
            "16\n",
            "63613.58085171358\n",
            "17\n",
            "66907.82594615823\n",
            "18\n",
            "63285.273510429266\n",
            "19\n",
            "53834.966783546915\n",
            "20\n",
            "46939.266166845024\n",
            "21\n",
            "42285.80379313742\n",
            "22\n",
            "39032.20573452002\n",
            "23\n",
            "36313.72065837038\n",
            "[0, 1]\n",
            "0\n",
            "32810.29888623418\n",
            "1\n",
            "64212.04320568936\n"
          ]
        },
        {
          "output_type": "execute_result",
          "data": {
            "text/plain": [
              "[0, 6, 32157.94531800418]"
            ]
          },
          "metadata": {},
          "execution_count": 90
        }
      ]
    },
    {
      "cell_type": "markdown",
      "metadata": {
        "id": "m4qz6qvuSOe7"
      },
      "source": [
        "### Punto 5 - Árbol de decisión con librería\n",
        "En la celda 5 entrene un árbol de decisiones con la **librería sklearn**, usando las variables predictoras \"hour\" y \"workingday\" y calibre los parámetros que considere conveniente para obtener un mejor desempeño. Comente el desempeño del modelo con alguna métrica de desempeño de modelos de clasificación y compare desempeño con el modelo del punto 3."
      ]
    },
    {
      "cell_type": "code",
      "execution_count": null,
      "metadata": {
        "id": "BVjAB5SYSOe7"
      },
      "outputs": [],
      "source": [
        "# Celda 5\n"
      ]
    },
    {
      "cell_type": "markdown",
      "metadata": {
        "id": "0vFiNenxSOe8"
      },
      "source": [
        "## Parte B - Métodos de ensamblajes\n",
        "En esta parte del taller se usará el conjunto de datos de Popularidad de Noticias Online. El objetivo es predecir la cantidad de reacciones en redes sociales (popularidad) de la notica. Para más detalles puede visitar el sigueinte enlace: [datos](https://archive.ics.uci.edu/ml/datasets/online+news+popularity)."
      ]
    },
    {
      "cell_type": "markdown",
      "metadata": {
        "id": "hQcJAq2ySOe8"
      },
      "source": [
        "### Datos popularidad de noticias"
      ]
    },
    {
      "cell_type": "code",
      "execution_count": null,
      "metadata": {
        "id": "RbXHNo7USOe8"
      },
      "outputs": [],
      "source": [
        "# Lectura de la información de archivo .csv\n",
        "df = pd.read_csv('https://raw.githubusercontent.com/albahnsen/MIAD_ML_and_NLP/main/datasets/mashable.csv', index_col=0)\n",
        "df.head()"
      ]
    },
    {
      "cell_type": "code",
      "execution_count": null,
      "metadata": {
        "id": "Nu2lPsJ8SOe8"
      },
      "outputs": [],
      "source": [
        "# Definición variable de interes y variables predictoras\n",
        "X = df.drop(['url', 'Popular'], axis=1)\n",
        "y = df['Popular']\n",
        "y.mean()"
      ]
    },
    {
      "cell_type": "code",
      "execution_count": null,
      "metadata": {
        "id": "2O01f6MxSOe8"
      },
      "outputs": [],
      "source": [
        "# División de la muestra en set de entrenamiento y prueba\n",
        "from sklearn.model_selection import train_test_split\n",
        "X_train, X_test, y_train, y_test = train_test_split(X, y, random_state=1)"
      ]
    },
    {
      "cell_type": "markdown",
      "metadata": {
        "id": "Ugfxn6PkSOe9"
      },
      "source": [
        "### Punto 6 - Árbol de decisión y regresión logística\n",
        "En la celda 6 construya un árbol de decisión y una regresión logística. Para el árbol calibre al menos un parámetro y evalúe el desempeño de cada modelo usando las métricas de Accuracy y F1-Score."
      ]
    },
    {
      "cell_type": "code",
      "execution_count": null,
      "metadata": {
        "id": "C1zv6giUSOe9"
      },
      "outputs": [],
      "source": [
        "# Celda 6\n"
      ]
    },
    {
      "cell_type": "markdown",
      "metadata": {
        "id": "xGO0lWGvSOe9"
      },
      "source": [
        "### Punto 7 - Votación Mayoritaria\n",
        "En la celda 7 elabore un esamble con la metodología de **Votación mayoritaria** compuesto por 300 muestras bagged para cada uno de los siguientes escenarios:\n",
        "\n",
        "-100 árboles de decisión donde max_depth = None\\\n",
        "-100 árboles de decisión donde max_depth = 2\\\n",
        "-100 regresiones logísticas\n",
        "\n",
        "Evalúe los modelos utilizando las métricas de Accuracy y F1-Score."
      ]
    },
    {
      "cell_type": "code",
      "execution_count": null,
      "metadata": {
        "id": "85xDRy06SOe9"
      },
      "outputs": [],
      "source": [
        "# Celda 7\n"
      ]
    },
    {
      "cell_type": "markdown",
      "metadata": {
        "id": "k0yZX1RcSOe9"
      },
      "source": [
        "### Punto 8 - Votación Ponderada\n",
        "En la celda 8 elabore un ensamble con la metodología de **Votación ponderada** compuesto por 300 muestras bagged para los mismos tres escenarios del punto 7. Evalúe los modelos utilizando las métricas de Accuracy y F1-Score"
      ]
    },
    {
      "cell_type": "code",
      "execution_count": null,
      "metadata": {
        "id": "163YXu48SOe9"
      },
      "outputs": [],
      "source": [
        "# Celda 8\n"
      ]
    },
    {
      "cell_type": "markdown",
      "metadata": {
        "id": "potm0BF9SOe9"
      },
      "source": [
        "### Punto 9 - Comparación y análisis de resultados\n",
        "En la celda 9 comente sobre los resultados obtenidos con las metodologías usadas en los puntos 7 y 8, compare los resultados y enuncie posibles ventajas o desventajas de cada una de ellas."
      ]
    },
    {
      "cell_type": "code",
      "execution_count": null,
      "metadata": {
        "id": "gXiLF7IaSOe-"
      },
      "outputs": [],
      "source": [
        "# Celda 9"
      ]
    }
  ],
  "metadata": {
    "kernelspec": {
      "display_name": "Python 3",
      "language": "python",
      "name": "python3"
    },
    "language_info": {
      "codemirror_mode": {
        "name": "ipython",
        "version": 3
      },
      "file_extension": ".py",
      "mimetype": "text/x-python",
      "name": "python",
      "nbconvert_exporter": "python",
      "pygments_lexer": "ipython3",
      "version": "3.7.3"
    },
    "colab": {
      "name": "S1TC1_arboles_ensamblajes.ipynb",
      "provenance": []
    }
  },
  "nbformat": 4,
  "nbformat_minor": 0
}